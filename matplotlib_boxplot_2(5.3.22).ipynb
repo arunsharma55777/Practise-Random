{
 "cells": [
  {
   "cell_type": "code",
   "execution_count": 1,
   "id": "58766e4f",
   "metadata": {},
   "outputs": [],
   "source": [
    "import numpy as np\n",
    "import pandas as pd\n",
    "import matplotlib.pyplot as plt\n",
    "import seaborn as sns\n",
    "%matplotlib inline"
   ]
  },
  {
   "cell_type": "code",
   "execution_count": 2,
   "id": "d56ba5b5",
   "metadata": {},
   "outputs": [
    {
     "data": {
      "text/html": [
       "<div>\n",
       "<style scoped>\n",
       "    .dataframe tbody tr th:only-of-type {\n",
       "        vertical-align: middle;\n",
       "    }\n",
       "\n",
       "    .dataframe tbody tr th {\n",
       "        vertical-align: top;\n",
       "    }\n",
       "\n",
       "    .dataframe thead th {\n",
       "        text-align: right;\n",
       "    }\n",
       "</style>\n",
       "<table border=\"1\" class=\"dataframe\">\n",
       "  <thead>\n",
       "    <tr style=\"text-align: right;\">\n",
       "      <th></th>\n",
       "      <th>Age_Years</th>\n",
       "      <th>Salary_Thousands</th>\n",
       "    </tr>\n",
       "  </thead>\n",
       "  <tbody>\n",
       "    <tr>\n",
       "      <th>0</th>\n",
       "      <td>10</td>\n",
       "      <td>15</td>\n",
       "    </tr>\n",
       "    <tr>\n",
       "      <th>1</th>\n",
       "      <td>23</td>\n",
       "      <td>22</td>\n",
       "    </tr>\n",
       "    <tr>\n",
       "      <th>2</th>\n",
       "      <td>22</td>\n",
       "      <td>24</td>\n",
       "    </tr>\n",
       "    <tr>\n",
       "      <th>3</th>\n",
       "      <td>25</td>\n",
       "      <td>25</td>\n",
       "    </tr>\n",
       "    <tr>\n",
       "      <th>4</th>\n",
       "      <td>20</td>\n",
       "      <td>30</td>\n",
       "    </tr>\n",
       "  </tbody>\n",
       "</table>\n",
       "</div>"
      ],
      "text/plain": [
       "   Age_Years  Salary_Thousands\n",
       "0         10                15\n",
       "1         23                22\n",
       "2         22                24\n",
       "3         25                25\n",
       "4         20                30"
      ]
     },
     "execution_count": 2,
     "metadata": {},
     "output_type": "execute_result"
    }
   ],
   "source": [
    "emp = {\"Age_Years\":[10,23,22,25,20,23,24,27,25,24,33,21], \"Salary_Thousands\":[15,22,24,25,30,23,34,43,19,20,52,21]}\n",
    "\n",
    "df = pd.DataFrame(data=emp)\n",
    "\n",
    "df.head()\n",
    "    \n",
    "    "
   ]
  },
  {
   "cell_type": "code",
   "execution_count": null,
   "id": "3ed9eff2",
   "metadata": {},
   "outputs": [],
   "source": [
    "plt.figure(figsize = (4,6))\n",
    "sns.boxplot(x=['Age_Years'], color = 'b', data = df, orient='v')\n",
    "plt.xlabel = ('Age')\n",
    "plt.yticks(range(0,41,2))\n",
    "plt.show"
   ]
  },
  {
   "cell_type": "code",
   "execution_count": 19,
   "id": "9973090e",
   "metadata": {},
   "outputs": [
    {
     "name": "stderr",
     "output_type": "stream",
     "text": [
      "C:\\ProgramData\\Anaconda3\\lib\\site-packages\\seaborn\\_decorators.py:36: FutureWarning: Pass the following variable as a keyword arg: x. From version 0.12, the only valid positional argument will be `data`, and passing other arguments without an explicit keyword will result in an error or misinterpretation.\n",
      "  warnings.warn(\n"
     ]
    },
    {
     "data": {
      "image/png": "[encoded data removed]",
      "text/plain": [
       "<Figure size 1008x288 with 1 Axes>"
      ]
     },
     "metadata": {
      "needs_background": "light"
     },
     "output_type": "display_data"
    }
   ],
   "source": [
    "plt.figure(figsize = (14,4))\n",
    "sns.boxplot(df['Age_Years'], color = 'b', orient='h')\n",
    "plt.xlabel = ('Age')\n",
    "plt.yticks(range(0,10,2))\n",
    "plt.show()"
   ]
  },
  {
   "cell_type": "code",
   "execution_count": 3,
   "id": "fca889b9",
   "metadata": {},
   "outputs": [
    {
     "data": {
      "text/plain": [
       "<AxesSubplot:>"
      ]
     },
     "execution_count": 3,
     "metadata": {},
     "output_type": "execute_result"
    },
    {
     "data": {
      "image/png": "[encoded data removed]",
      "text/plain": [
       "<Figure size 576x360 with 1 Axes>"
      ]
     },
     "metadata": {
      "needs_background": "light"
     },
     "output_type": "display_data"
    }
   ],
   "source": [
    "df.plot(kind= 'box', figsize = (8,5), color = 'r', yticks = range(0,55,5))"
   ]
  },
  {
   "cell_type": "code",
   "execution_count": 4,
   "id": "17a8c1dc",
   "metadata": {},
   "outputs": [
    {
     "data": {
      "text/plain": [
       "<AxesSubplot:>"
      ]
     },
     "execution_count": 4,
     "metadata": {},
     "output_type": "execute_result"
    },
    {
     "data": {
      "image/png": "[encoded data removed]",
      "text/plain": [
       "<Figure size 576x360 with 1 Axes>"
      ]
     },
     "metadata": {
      "needs_background": "light"
     },
     "output_type": "display_data"
    }
   ],
   "source": [
    "df.plot(kind= 'box', figsize = (8,5))"
   ]
  },
  {
   "cell_type": "code",
   "execution_count": 5,
   "id": "0cbc70b3",
   "metadata": {},
   "outputs": [
    {
     "data": {
      "text/plain": [
       "[15, 19, 20, 21, 22, 23, 24, 25, 30, 34, 43, 52]"
      ]
     },
     "execution_count": 5,
     "metadata": {},
     "output_type": "execute_result"
    }
   ],
   "source": [
    "sal = [15,22,24,25,30,23,34,43,19,20,52,21]\n",
    "sal.sort()\n",
    "sal"
   ]
  },
  {
   "cell_type": "code",
   "execution_count": 6,
   "id": "948d9b1f",
   "metadata": {},
   "outputs": [
    {
     "data": {
      "text/plain": [
       "12"
      ]
     },
     "execution_count": 6,
     "metadata": {},
     "output_type": "execute_result"
    }
   ],
   "source": [
    "len(sal)"
   ]
  },
  {
   "cell_type": "code",
   "execution_count": 7,
   "id": "b4352e08",
   "metadata": {},
   "outputs": [
    {
     "data": {
      "text/plain": [
       "0     15\n",
       "1     19\n",
       "2     20\n",
       "3     21\n",
       "4     22\n",
       "5     23\n",
       "6     24\n",
       "7     25\n",
       "8     30\n",
       "9     34\n",
       "10    43\n",
       "11    52\n",
       "dtype: int64"
      ]
     },
     "execution_count": 7,
     "metadata": {},
     "output_type": "execute_result"
    }
   ],
   "source": [
    "ser = pd.Series(sal)\n",
    "\n",
    "ser"
   ]
  },
  {
   "cell_type": "code",
   "execution_count": 8,
   "id": "21452af1",
   "metadata": {},
   "outputs": [
    {
     "name": "stdout",
     "output_type": "stream",
     "text": [
      "Q1 20.75\n",
      "Q2 23.5\n",
      "Q3 31.0\n",
      "IQR 10.25\n"
     ]
    }
   ],
   "source": [
    "# 1st Quantile:\n",
    "\n",
    "q1 = ser.quantile(0.25)\n",
    "print(\"Q1\", q1)\n",
    "\n",
    "q2 = ser.quantile(0.50)\n",
    "print(\"Q2\", q2)\n",
    "\n",
    "# 3rd Quartile:\n",
    "q3 = ser.quantile(0.75)\n",
    "print(\"Q3\", q3)\n",
    "\n",
    "# Inter-quartile range: To identify the outliers:\n",
    "iqr = q3-q1\n",
    "print(\"IQR\", iqr)"
   ]
  },
  {
   "cell_type": "markdown",
   "id": "ed8ebd15",
   "metadata": {},
   "source": [
    "# Detecting Outliers:\n",
    "\n",
    "\n",
    "# Higher Side:\n",
    "\n",
    "Q3 + (1.5*IQR)\n",
    "\n",
    "# Lower Side:\n",
    "\n",
    "Q1 - (1.5*IQR)"
   ]
  },
  {
   "cell_type": "code",
   "execution_count": 12,
   "id": "e60bd1ed",
   "metadata": {},
   "outputs": [
    {
     "name": "stdout",
     "output_type": "stream",
     "text": [
      "Anything above  46.375  is Outlier\n",
      "Anything below  5.375  is Outlier\n"
     ]
    }
   ],
   "source": [
    "higher_side = q3 + (1.5*iqr)\n",
    "\n",
    "print(\"Anything above \", higher_side, \" is Outlier\")\n",
    "\n",
    "low = q1 - (1.5*iqr)\n",
    "\n",
    "print(\"Anything below \", low, \" is Outlier\")"
   ]
  },
  {
   "cell_type": "code",
   "execution_count": null,
   "id": "9924cfdf",
   "metadata": {},
   "outputs": [],
   "source": []
  }
 ],
 "metadata": {
  "kernelspec": {
   "display_name": "Python 3 (ipykernel)",
   "language": "python",
   "name": "python3"
  },
  "language_info": {
   "codemirror_mode": {
    "name": "ipython",
    "version": 3
   },
   "file_extension": ".py",
   "mimetype": "text/x-python",
   "name": "python",
   "nbconvert_exporter": "python",
   "pygments_lexer": "ipython3",
   "version": "3.9.12"
  }
 },
 "nbformat": 4,
 "nbformat_minor": 5
}
