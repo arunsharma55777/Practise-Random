{
 "cells": [
  {
   "cell_type": "markdown",
   "id": "fc562b94",
   "metadata": {},
   "source": [
    "# Descriptive Statistics :"
   ]
  },
  {
   "cell_type": "code",
   "execution_count": 1,
   "id": "2379687b",
   "metadata": {},
   "outputs": [],
   "source": [
    "# Measure of central tendency:\n",
    "\n",
    "# Measure of spread :"
   ]
  },
  {
   "cell_type": "code",
   "execution_count": 2,
   "id": "397eaf69",
   "metadata": {},
   "outputs": [],
   "source": [
    "# Measure of central Tendency"
   ]
  },
  {
   "cell_type": "code",
   "execution_count": 3,
   "id": "2c0c5e1d",
   "metadata": {},
   "outputs": [
    {
     "data": {
      "text/plain": [
       "array([30, 34, 32, 31, 30, 34, 30, 30, 33, 34])"
      ]
     },
     "execution_count": 3,
     "metadata": {},
     "output_type": "execute_result"
    }
   ],
   "source": [
    "import numpy as np \n",
    "import pandas as pd\n",
    "\n",
    "x = np.random.randint(30,35,10)\n",
    "\n",
    "x"
   ]
  },
  {
   "cell_type": "code",
   "execution_count": 4,
   "id": "a6996c46",
   "metadata": {},
   "outputs": [
    {
     "data": {
      "text/plain": [
       "31.8"
      ]
     },
     "execution_count": 4,
     "metadata": {},
     "output_type": "execute_result"
    }
   ],
   "source": [
    "# Mean :\n",
    "\n",
    "np.mean(x)"
   ]
  },
  {
   "cell_type": "code",
   "execution_count": 6,
   "id": "dc27e031",
   "metadata": {},
   "outputs": [
    {
     "data": {
      "text/plain": [
       "31.5"
      ]
     },
     "execution_count": 6,
     "metadata": {},
     "output_type": "execute_result"
    }
   ],
   "source": [
    "# Median:\n",
    "\n",
    "np.median(x)\n"
   ]
  },
  {
   "cell_type": "code",
   "execution_count": 7,
   "id": "af67e3be",
   "metadata": {},
   "outputs": [],
   "source": [
    "## Measure of Dispersion:\n"
   ]
  },
  {
   "cell_type": "code",
   "execution_count": 10,
   "id": "029c2be3",
   "metadata": {},
   "outputs": [
    {
     "name": "stdout",
     "output_type": "stream",
     "text": [
      "Variance is 2.96\n"
     ]
    }
   ],
   "source": [
    "# Variance : it is the Mean of Squared Deviations :\n",
    "\n",
    "print(\"Variance is\", np.var(x))"
   ]
  },
  {
   "cell_type": "code",
   "execution_count": 11,
   "id": "5db34459",
   "metadata": {},
   "outputs": [
    {
     "name": "stdout",
     "output_type": "stream",
     "text": [
      "Standard Deviation is 1.7204650534085253\n"
     ]
    }
   ],
   "source": [
    "# Standard Deviation : Square root of Variance:\n",
    "\n",
    "print(\"Standard Deviation is\", np.std(x))"
   ]
  },
  {
   "cell_type": "code",
   "execution_count": 12,
   "id": "c0fc1f95",
   "metadata": {},
   "outputs": [
    {
     "data": {
      "text/html": [
       "<div>\n",
       "<style scoped>\n",
       "    .dataframe tbody tr th:only-of-type {\n",
       "        vertical-align: middle;\n",
       "    }\n",
       "\n",
       "    .dataframe tbody tr th {\n",
       "        vertical-align: top;\n",
       "    }\n",
       "\n",
       "    .dataframe thead th {\n",
       "        text-align: right;\n",
       "    }\n",
       "</style>\n",
       "<table border=\"1\" class=\"dataframe\">\n",
       "  <thead>\n",
       "    <tr style=\"text-align: right;\">\n",
       "      <th></th>\n",
       "      <th>0</th>\n",
       "    </tr>\n",
       "  </thead>\n",
       "  <tbody>\n",
       "    <tr>\n",
       "      <th>0</th>\n",
       "      <td>10</td>\n",
       "    </tr>\n",
       "    <tr>\n",
       "      <th>1</th>\n",
       "      <td>20</td>\n",
       "    </tr>\n",
       "    <tr>\n",
       "      <th>2</th>\n",
       "      <td>30</td>\n",
       "    </tr>\n",
       "    <tr>\n",
       "      <th>3</th>\n",
       "      <td>40</td>\n",
       "    </tr>\n",
       "    <tr>\n",
       "      <th>4</th>\n",
       "      <td>50</td>\n",
       "    </tr>\n",
       "    <tr>\n",
       "      <th>5</th>\n",
       "      <td>60</td>\n",
       "    </tr>\n",
       "    <tr>\n",
       "      <th>6</th>\n",
       "      <td>70</td>\n",
       "    </tr>\n",
       "    <tr>\n",
       "      <th>7</th>\n",
       "      <td>80</td>\n",
       "    </tr>\n",
       "  </tbody>\n",
       "</table>\n",
       "</div>"
      ],
      "text/plain": [
       "    0\n",
       "0  10\n",
       "1  20\n",
       "2  30\n",
       "3  40\n",
       "4  50\n",
       "5  60\n",
       "6  70\n",
       "7  80"
      ]
     },
     "execution_count": 12,
     "metadata": {},
     "output_type": "execute_result"
    }
   ],
   "source": [
    "# Quantiles :\n",
    "\n",
    "y = [10,20,30,40,50,60,70,80]\n",
    "\n",
    "y1 = pd.DataFrame(y)\n",
    "\n",
    "y1"
   ]
  },
  {
   "cell_type": "code",
   "execution_count": 13,
   "id": "e88f1d87",
   "metadata": {},
   "outputs": [
    {
     "data": {
      "text/html": [
       "<div>\n",
       "<style scoped>\n",
       "    .dataframe tbody tr th:only-of-type {\n",
       "        vertical-align: middle;\n",
       "    }\n",
       "\n",
       "    .dataframe tbody tr th {\n",
       "        vertical-align: top;\n",
       "    }\n",
       "\n",
       "    .dataframe thead th {\n",
       "        text-align: right;\n",
       "    }\n",
       "</style>\n",
       "<table border=\"1\" class=\"dataframe\">\n",
       "  <thead>\n",
       "    <tr style=\"text-align: right;\">\n",
       "      <th></th>\n",
       "      <th>0</th>\n",
       "    </tr>\n",
       "  </thead>\n",
       "  <tbody>\n",
       "    <tr>\n",
       "      <th>count</th>\n",
       "      <td>8.000000</td>\n",
       "    </tr>\n",
       "    <tr>\n",
       "      <th>mean</th>\n",
       "      <td>45.000000</td>\n",
       "    </tr>\n",
       "    <tr>\n",
       "      <th>std</th>\n",
       "      <td>24.494897</td>\n",
       "    </tr>\n",
       "    <tr>\n",
       "      <th>min</th>\n",
       "      <td>10.000000</td>\n",
       "    </tr>\n",
       "    <tr>\n",
       "      <th>25%</th>\n",
       "      <td>27.500000</td>\n",
       "    </tr>\n",
       "    <tr>\n",
       "      <th>50%</th>\n",
       "      <td>45.000000</td>\n",
       "    </tr>\n",
       "    <tr>\n",
       "      <th>75%</th>\n",
       "      <td>62.500000</td>\n",
       "    </tr>\n",
       "    <tr>\n",
       "      <th>max</th>\n",
       "      <td>80.000000</td>\n",
       "    </tr>\n",
       "  </tbody>\n",
       "</table>\n",
       "</div>"
      ],
      "text/plain": [
       "               0\n",
       "count   8.000000\n",
       "mean   45.000000\n",
       "std    24.494897\n",
       "min    10.000000\n",
       "25%    27.500000\n",
       "50%    45.000000\n",
       "75%    62.500000\n",
       "max    80.000000"
      ]
     },
     "execution_count": 13,
     "metadata": {},
     "output_type": "execute_result"
    }
   ],
   "source": [
    "y1.describe()"
   ]
  },
  {
   "cell_type": "code",
   "execution_count": 14,
   "id": "8a37bb35",
   "metadata": {},
   "outputs": [],
   "source": [
    "# Inter Quantiles: Q3-Q1\n",
    "\n",
    "# Quantile range : max - min"
   ]
  },
  {
   "cell_type": "code",
   "execution_count": 15,
   "id": "ce73811c",
   "metadata": {},
   "outputs": [],
   "source": [
    "\n",
    "## Inferential Statistics : Sampling the data and infer the result to describe entire population\n"
   ]
  },
  {
   "cell_type": "code",
   "execution_count": 16,
   "id": "62a2646b",
   "metadata": {},
   "outputs": [],
   "source": [
    "# Central Limit Theorem says :\n",
    "\n",
    "# Normal Distribution : Distribution is alwyas normal irrespective of Sample Size.\n",
    "\n",
    "# Non-normal Distribution : If sample size is adequate(approx>30 sample), distribution starts looking normal.\n"
   ]
  },
  {
   "cell_type": "code",
   "execution_count": 20,
   "id": "5ed95d77",
   "metadata": {},
   "outputs": [],
   "source": [
    "# Types of Distribution : Most commonly used distribution are Z-distribution(Standard Normal Distri.) and Normal Distribution:\n",
    "\n",
    "# 1.Normal Distribution : It is the proper term for probability bell curve. In a normal distribution mean is zero and\n"
   ]
  },
  {
   "cell_type": "code",
   "execution_count": 21,
   "id": "6a4722ee",
   "metadata": {},
   "outputs": [],
   "source": [
    "\n",
    "# Skewed Right: Mean<Median<Mode\n",
    "# Symmetric Distribution: Mean=Median=Mode\n",
    "# Skewed Left : Mean>Median>Mode\n"
   ]
  },
  {
   "cell_type": "code",
   "execution_count": 22,
   "id": "b73ee79b",
   "metadata": {},
   "outputs": [],
   "source": [
    "# Bernouli Distribution:"
   ]
  },
  {
   "cell_type": "code",
   "execution_count": null,
   "id": "952e400a",
   "metadata": {},
   "outputs": [],
   "source": []
  }
 ],
 "metadata": {
  "kernelspec": {
   "display_name": "Python 3 (ipykernel)",
   "language": "python",
   "name": "python3"
  },
  "language_info": {
   "codemirror_mode": {
    "name": "ipython",
    "version": 3
   },
   "file_extension": ".py",
   "mimetype": "text/x-python",
   "name": "python",
   "nbconvert_exporter": "python",
   "pygments_lexer": "ipython3",
   "version": "3.9.12"
  }
 },
 "nbformat": 4,
 "nbformat_minor": 5
}
